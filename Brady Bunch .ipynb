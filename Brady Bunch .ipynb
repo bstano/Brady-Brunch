{
 "cells": [
  {
   "cell_type": "markdown",
   "metadata": {},
   "source": [
    "## The Brady Bunch\n",
    "\n",
    "\n",
    "One of TV's most iconic shows, The Brady Bunch was on the air for 5 seasons, an enternity at the time, and left a lasting impact on American pop culture. \n",
    "\n",
    "Let's use the ages of each of the Brady children to do some simple statistical exercises.  \n",
    "\n",
    "First, we should set-up our coding environment."
   ]
  },
  {
   "cell_type": "code",
   "execution_count": 101,
   "metadata": {},
   "outputs": [],
   "source": [
    "import numpy as np\n",
    "import pandas as pd\n",
    "import matplotlib.pyplot as plt\n",
    "import math\n",
    "%matplotlib inline\n",
    "#import for making good visualizations in Jupyter"
   ]
  },
  {
   "cell_type": "markdown",
   "metadata": {},
   "source": [
    "Greg was 14, Marcia was 12, Peter was 11, Jan was 10, Bobby was 8, and Cindy was 6 when they started playing the Brady. Let's create a data frame called 'brady' to show the ages of the original brady kids."
   ]
  },
  {
   "cell_type": "code",
   "execution_count": 102,
   "metadata": {},
   "outputs": [
    {
     "data": {
      "text/html": [
       "<div>\n",
       "<style scoped>\n",
       "    .dataframe tbody tr th:only-of-type {\n",
       "        vertical-align: middle;\n",
       "    }\n",
       "\n",
       "    .dataframe tbody tr th {\n",
       "        vertical-align: top;\n",
       "    }\n",
       "\n",
       "    .dataframe thead th {\n",
       "        text-align: right;\n",
       "    }\n",
       "</style>\n",
       "<table border=\"1\" class=\"dataframe\">\n",
       "  <thead>\n",
       "    <tr style=\"text-align: right;\">\n",
       "      <th></th>\n",
       "      <th>Season 1</th>\n",
       "      <th>Season 2</th>\n",
       "      <th>Season 3</th>\n",
       "      <th>Season 4</th>\n",
       "      <th>Season 5</th>\n",
       "    </tr>\n",
       "  </thead>\n",
       "  <tbody>\n",
       "    <tr>\n",
       "      <th>Greg</th>\n",
       "      <td>14</td>\n",
       "      <td>15</td>\n",
       "      <td>16</td>\n",
       "      <td>17</td>\n",
       "      <td>18</td>\n",
       "    </tr>\n",
       "    <tr>\n",
       "      <th>Marcia</th>\n",
       "      <td>12</td>\n",
       "      <td>13</td>\n",
       "      <td>14</td>\n",
       "      <td>15</td>\n",
       "      <td>16</td>\n",
       "    </tr>\n",
       "    <tr>\n",
       "      <th>Peter</th>\n",
       "      <td>11</td>\n",
       "      <td>12</td>\n",
       "      <td>13</td>\n",
       "      <td>14</td>\n",
       "      <td>15</td>\n",
       "    </tr>\n",
       "    <tr>\n",
       "      <th>Jan</th>\n",
       "      <td>10</td>\n",
       "      <td>11</td>\n",
       "      <td>12</td>\n",
       "      <td>13</td>\n",
       "      <td>14</td>\n",
       "    </tr>\n",
       "    <tr>\n",
       "      <th>Bobby</th>\n",
       "      <td>8</td>\n",
       "      <td>9</td>\n",
       "      <td>10</td>\n",
       "      <td>11</td>\n",
       "      <td>12</td>\n",
       "    </tr>\n",
       "    <tr>\n",
       "      <th>Cindy</th>\n",
       "      <td>6</td>\n",
       "      <td>7</td>\n",
       "      <td>8</td>\n",
       "      <td>9</td>\n",
       "      <td>10</td>\n",
       "    </tr>\n",
       "  </tbody>\n",
       "</table>\n",
       "</div>"
      ],
      "text/plain": [
       "        Season 1  Season 2  Season 3  Season 4  Season 5\n",
       "Greg          14        15        16        17        18\n",
       "Marcia        12        13        14        15        16\n",
       "Peter         11        12        13        14        15\n",
       "Jan           10        11        12        13        14\n",
       "Bobby          8         9        10        11        12\n",
       "Cindy          6         7         8         9        10"
      ]
     },
     "execution_count": 102,
     "metadata": {},
     "output_type": "execute_result"
    }
   ],
   "source": [
    "#set-up a data frame containing just the ages from Season 1.\n",
    "brady = pd.DataFrame([14,12,11,10,8,6],['Greg','Marcia','Peter','Jan','Bobby','Cindy'],\n",
    "                     columns = ['Season 1'])\n",
    "#now create the column for season 2 by adding 1 year to the season 1 ages\n",
    "brady['Season 2'] = brady['Season 1'] + 1\n",
    "#same for season 3, but adding 2 years\n",
    "brady['Season 3'] = brady['Season 1'] + 2\n",
    "#season 4, 3 years\n",
    "brady['Season 4'] = brady['Season 1'] + 3\n",
    "#season 5, 4 years\n",
    "brady['Season 5'] = brady['Season 1'] + 4\n",
    "#though we could have put it all the the same statement\n",
    "#initializing the dataframe this way will save us some typing \n",
    "\n",
    "brady"
   ]
  },
  {
   "cell_type": "markdown",
   "metadata": {},
   "source": [
    "Now that the data frame is all set-up, we can then use then use python to get some tabular statistics at a glance for the Brady kids."
   ]
  },
  {
   "cell_type": "code",
   "execution_count": 103,
   "metadata": {},
   "outputs": [
    {
     "data": {
      "text/html": [
       "<div>\n",
       "<style scoped>\n",
       "    .dataframe tbody tr th:only-of-type {\n",
       "        vertical-align: middle;\n",
       "    }\n",
       "\n",
       "    .dataframe tbody tr th {\n",
       "        vertical-align: top;\n",
       "    }\n",
       "\n",
       "    .dataframe thead th {\n",
       "        text-align: right;\n",
       "    }\n",
       "</style>\n",
       "<table border=\"1\" class=\"dataframe\">\n",
       "  <thead>\n",
       "    <tr style=\"text-align: right;\">\n",
       "      <th></th>\n",
       "      <th>Season 1</th>\n",
       "      <th>Season 2</th>\n",
       "      <th>Season 3</th>\n",
       "      <th>Season 4</th>\n",
       "      <th>Season 5</th>\n",
       "    </tr>\n",
       "  </thead>\n",
       "  <tbody>\n",
       "    <tr>\n",
       "      <th>count</th>\n",
       "      <td>6.000000</td>\n",
       "      <td>6.000000</td>\n",
       "      <td>6.000000</td>\n",
       "      <td>6.000000</td>\n",
       "      <td>6.000000</td>\n",
       "    </tr>\n",
       "    <tr>\n",
       "      <th>mean</th>\n",
       "      <td>10.166667</td>\n",
       "      <td>11.166667</td>\n",
       "      <td>12.166667</td>\n",
       "      <td>13.166667</td>\n",
       "      <td>14.166667</td>\n",
       "    </tr>\n",
       "    <tr>\n",
       "      <th>std</th>\n",
       "      <td>2.857738</td>\n",
       "      <td>2.857738</td>\n",
       "      <td>2.857738</td>\n",
       "      <td>2.857738</td>\n",
       "      <td>2.857738</td>\n",
       "    </tr>\n",
       "    <tr>\n",
       "      <th>min</th>\n",
       "      <td>6.000000</td>\n",
       "      <td>7.000000</td>\n",
       "      <td>8.000000</td>\n",
       "      <td>9.000000</td>\n",
       "      <td>10.000000</td>\n",
       "    </tr>\n",
       "    <tr>\n",
       "      <th>25%</th>\n",
       "      <td>8.500000</td>\n",
       "      <td>9.500000</td>\n",
       "      <td>10.500000</td>\n",
       "      <td>11.500000</td>\n",
       "      <td>12.500000</td>\n",
       "    </tr>\n",
       "    <tr>\n",
       "      <th>50%</th>\n",
       "      <td>10.500000</td>\n",
       "      <td>11.500000</td>\n",
       "      <td>12.500000</td>\n",
       "      <td>13.500000</td>\n",
       "      <td>14.500000</td>\n",
       "    </tr>\n",
       "    <tr>\n",
       "      <th>75%</th>\n",
       "      <td>11.750000</td>\n",
       "      <td>12.750000</td>\n",
       "      <td>13.750000</td>\n",
       "      <td>14.750000</td>\n",
       "      <td>15.750000</td>\n",
       "    </tr>\n",
       "    <tr>\n",
       "      <th>max</th>\n",
       "      <td>14.000000</td>\n",
       "      <td>15.000000</td>\n",
       "      <td>16.000000</td>\n",
       "      <td>17.000000</td>\n",
       "      <td>18.000000</td>\n",
       "    </tr>\n",
       "  </tbody>\n",
       "</table>\n",
       "</div>"
      ],
      "text/plain": [
       "        Season 1   Season 2   Season 3   Season 4   Season 5\n",
       "count   6.000000   6.000000   6.000000   6.000000   6.000000\n",
       "mean   10.166667  11.166667  12.166667  13.166667  14.166667\n",
       "std     2.857738   2.857738   2.857738   2.857738   2.857738\n",
       "min     6.000000   7.000000   8.000000   9.000000  10.000000\n",
       "25%     8.500000   9.500000  10.500000  11.500000  12.500000\n",
       "50%    10.500000  11.500000  12.500000  13.500000  14.500000\n",
       "75%    11.750000  12.750000  13.750000  14.750000  15.750000\n",
       "max    14.000000  15.000000  16.000000  17.000000  18.000000"
      ]
     },
     "execution_count": 103,
     "metadata": {},
     "output_type": "execute_result"
    }
   ],
   "source": [
    "brady.describe()"
   ]
  },
  {
   "cell_type": "markdown",
   "metadata": {},
   "source": [
    "Why don't we graph these statistics for an even better visualization?  The best way to graph to show this data would be a box and whisker plot."
   ]
  },
  {
   "cell_type": "code",
   "execution_count": 104,
   "metadata": {},
   "outputs": [
    {
     "data": {
      "image/png": "[encoded data removed]",
      "text/plain": [
       "<Figure size 432x288 with 1 Axes>"
      ]
     },
     "metadata": {},
     "output_type": "display_data"
    }
   ],
   "source": [
    "#set-up an iterable list to so all boxplots will appear on graph, on its own line for clarity\n",
    "x = [brady['Season 1'],brady['Season 2'],brady['Season 3'],brady['Season 4'],brady['Season 5']]\n",
    "plt.boxplot(x)\n",
    "plt.title(\"Brady Kids Age over the Show's Run\")\n",
    "plt.xlabel(\"Season\")\n",
    "plt.ylabel(\"Age (years)\")\n",
    "\n",
    "plt.show()"
   ]
  },
  {
   "cell_type": "markdown",
   "metadata": {},
   "source": [
    "## What about Oliver?\n",
    "\n",
    "\n",
    "Of course, season 5 had something special about it, cousin Oliver, who was indroduced in the middle of the season at age 8.  Let's update our data and see how it changes. "
   ]
  },
  {
   "cell_type": "code",
   "execution_count": 105,
   "metadata": {},
   "outputs": [
    {
     "data": {
      "text/html": [
       "<div>\n",
       "<style scoped>\n",
       "    .dataframe tbody tr th:only-of-type {\n",
       "        vertical-align: middle;\n",
       "    }\n",
       "\n",
       "    .dataframe tbody tr th {\n",
       "        vertical-align: top;\n",
       "    }\n",
       "\n",
       "    .dataframe thead th {\n",
       "        text-align: right;\n",
       "    }\n",
       "</style>\n",
       "<table border=\"1\" class=\"dataframe\">\n",
       "  <thead>\n",
       "    <tr style=\"text-align: right;\">\n",
       "      <th></th>\n",
       "      <th>Season 1</th>\n",
       "      <th>Season 2</th>\n",
       "      <th>Season 3</th>\n",
       "      <th>Season 4</th>\n",
       "      <th>Season 5</th>\n",
       "    </tr>\n",
       "  </thead>\n",
       "  <tbody>\n",
       "    <tr>\n",
       "      <th>Greg</th>\n",
       "      <td>14.0</td>\n",
       "      <td>15.0</td>\n",
       "      <td>16.0</td>\n",
       "      <td>17.0</td>\n",
       "      <td>18.0</td>\n",
       "    </tr>\n",
       "    <tr>\n",
       "      <th>Marcia</th>\n",
       "      <td>12.0</td>\n",
       "      <td>13.0</td>\n",
       "      <td>14.0</td>\n",
       "      <td>15.0</td>\n",
       "      <td>16.0</td>\n",
       "    </tr>\n",
       "    <tr>\n",
       "      <th>Peter</th>\n",
       "      <td>11.0</td>\n",
       "      <td>12.0</td>\n",
       "      <td>13.0</td>\n",
       "      <td>14.0</td>\n",
       "      <td>15.0</td>\n",
       "    </tr>\n",
       "    <tr>\n",
       "      <th>Jan</th>\n",
       "      <td>10.0</td>\n",
       "      <td>11.0</td>\n",
       "      <td>12.0</td>\n",
       "      <td>13.0</td>\n",
       "      <td>14.0</td>\n",
       "    </tr>\n",
       "    <tr>\n",
       "      <th>Bobby</th>\n",
       "      <td>8.0</td>\n",
       "      <td>9.0</td>\n",
       "      <td>10.0</td>\n",
       "      <td>11.0</td>\n",
       "      <td>12.0</td>\n",
       "    </tr>\n",
       "    <tr>\n",
       "      <th>Cindy</th>\n",
       "      <td>6.0</td>\n",
       "      <td>7.0</td>\n",
       "      <td>8.0</td>\n",
       "      <td>9.0</td>\n",
       "      <td>10.0</td>\n",
       "    </tr>\n",
       "    <tr>\n",
       "      <th>Oliver</th>\n",
       "      <td>NaN</td>\n",
       "      <td>NaN</td>\n",
       "      <td>NaN</td>\n",
       "      <td>NaN</td>\n",
       "      <td>8.0</td>\n",
       "    </tr>\n",
       "  </tbody>\n",
       "</table>\n",
       "</div>"
      ],
      "text/plain": [
       "        Season 1  Season 2  Season 3  Season 4  Season 5\n",
       "Greg        14.0      15.0      16.0      17.0      18.0\n",
       "Marcia      12.0      13.0      14.0      15.0      16.0\n",
       "Peter       11.0      12.0      13.0      14.0      15.0\n",
       "Jan         10.0      11.0      12.0      13.0      14.0\n",
       "Bobby        8.0       9.0      10.0      11.0      12.0\n",
       "Cindy        6.0       7.0       8.0       9.0      10.0\n",
       "Oliver       NaN       NaN       NaN       NaN       8.0"
      ]
     },
     "execution_count": 105,
     "metadata": {},
     "output_type": "execute_result"
    }
   ],
   "source": [
    "#create a new data frame for the Brady ages with Oliver\n",
    "brady_o = brady\n",
    "\n",
    "#since Oliver was not in the show in seasons 1-4, his age vaule during them will be entered as a null\n",
    "brady_o.loc['Oliver'] = [None,None,None,None,8]\n",
    "\n",
    "brady_o"
   ]
  },
  {
   "cell_type": "markdown",
   "metadata": {},
   "source": [
    "Lets run our graphs again, this time with updated with cousin Oliver."
   ]
  },
  {
   "cell_type": "code",
   "execution_count": 106,
   "metadata": {},
   "outputs": [
    {
     "name": "stderr",
     "output_type": "stream",
     "text": [
      "c:\\users\\ben stano\\appdata\\local\\programs\\python\\python36-32\\lib\\site-packages\\numpy\\core\\fromnumeric.py:52: FutureWarning: reshape is deprecated and will raise in a subsequent release. Please use .values.reshape(...) instead\n",
      "  return getattr(obj, method)(*args, **kwds)\n"
     ]
    },
    {
     "data": {
      "image/png": "[encoded data removed]",
      "text/plain": [
       "<Figure size 432x288 with 1 Axes>"
      ]
     },
     "metadata": {},
     "output_type": "display_data"
    }
   ],
   "source": [
    "#iterable for boxplots to appear on one graph\n",
    "#making sure not including Oliver's age data in the season 1-4 graphs\n",
    "x = [brady_o.iloc[:5, 0],brady_o.iloc[:5, 1],brady_o.iloc[:5, 2],brady_o.iloc[:5, 3],brady_o['Season 5']]\n",
    "plt.boxplot(x)\n",
    "plt.title(\"Brady Kids Age over the Show's Run, with Oliver\")\n",
    "plt.xlabel(\"Season\")\n",
    "plt.ylabel(\"Age (years)\")\n",
    "plt.show()"
   ]
  },
  {
   "cell_type": "markdown",
   "metadata": {},
   "source": [
    "We can even compare early season 5 and late season 5, with cousin Oliver, side by side. "
   ]
  },
  {
   "cell_type": "code",
   "execution_count": 107,
   "metadata": {},
   "outputs": [
    {
     "name": "stderr",
     "output_type": "stream",
     "text": [
      "c:\\users\\ben stano\\appdata\\local\\programs\\python\\python36-32\\lib\\site-packages\\numpy\\core\\fromnumeric.py:52: FutureWarning: reshape is deprecated and will raise in a subsequent release. Please use .values.reshape(...) instead\n",
      "  return getattr(obj, method)(*args, **kwds)\n",
      "c:\\users\\ben stano\\appdata\\local\\programs\\python\\python36-32\\lib\\site-packages\\matplotlib\\cbook\\deprecation.py:107: MatplotlibDeprecationWarning: Passing one of 'on', 'true', 'off', 'false' as a boolean is deprecated; use an actual boolean (True/False) instead.\n",
      "  warnings.warn(message, mplDeprecation, stacklevel=1)\n"
     ]
    },
    {
     "data": {
      "image/png": "[encoded data removed]",
      "text/plain": [
       "<Figure size 432x288 with 1 Axes>"
      ]
     },
     "metadata": {},
     "output_type": "display_data"
    }
   ],
   "source": [
    "#iterable for boxplots to appear on one graph\n",
    "x = [brady_o.iloc[:5, 4],brady_o['Season 5']]\n",
    "plt.boxplot(x)\n",
    "plt.title(\"Season 5 Ages, without vs. with Oliver\")\n",
    "plt.xlabel(\"Without Oliver vs. With Oliver\")\n",
    "plt.ylabel(\"Age (years)\")\n",
    "#taking off bottom labels and ticks for such a simple graph\n",
    "plt.tick_params(bottom='off')\n",
    "plt.tick_params(labelbottom='off')\n",
    "plt.show()"
   ]
  },
  {
   "cell_type": "markdown",
   "metadata": {},
   "source": [
    "As we can see, Oliver really brought the age range down.  When you look at the data, it really does make Oliver's inclusion seem like a forced attempt to freshing up the show by lowering the average age of the kids. "
   ]
  },
  {
   "cell_type": "markdown",
   "metadata": {},
   "source": [
    "## What if...?\n",
    "\n",
    "\n",
    "What if the CEOs of the network had decided that to squeeze all they could out of the show and put it on for one more season.  To really liven up the show, they decide they need to keep the average age where it is and put the youngest possible cast member they could, a 1 year old baby. We'll call this new cast member Olivia. \n",
    "\n",
    "Let's set up a new data frame to represent the age of the Brady kids during this 'what if' season. "
   ]
  },
  {
   "cell_type": "code",
   "execution_count": 108,
   "metadata": {},
   "outputs": [
    {
     "data": {
      "text/html": [
       "<div>\n",
       "<style scoped>\n",
       "    .dataframe tbody tr th:only-of-type {\n",
       "        vertical-align: middle;\n",
       "    }\n",
       "\n",
       "    .dataframe tbody tr th {\n",
       "        vertical-align: top;\n",
       "    }\n",
       "\n",
       "    .dataframe thead th {\n",
       "        text-align: right;\n",
       "    }\n",
       "</style>\n",
       "<table border=\"1\" class=\"dataframe\">\n",
       "  <thead>\n",
       "    <tr style=\"text-align: right;\">\n",
       "      <th></th>\n",
       "      <th>Season 1</th>\n",
       "      <th>Season 2</th>\n",
       "      <th>Season 3</th>\n",
       "      <th>Season 4</th>\n",
       "      <th>Season 5</th>\n",
       "      <th>Season 6</th>\n",
       "    </tr>\n",
       "  </thead>\n",
       "  <tbody>\n",
       "    <tr>\n",
       "      <th>Greg</th>\n",
       "      <td>14.0</td>\n",
       "      <td>15.0</td>\n",
       "      <td>16.0</td>\n",
       "      <td>17.0</td>\n",
       "      <td>18.0</td>\n",
       "      <td>19.0</td>\n",
       "    </tr>\n",
       "    <tr>\n",
       "      <th>Marcia</th>\n",
       "      <td>12.0</td>\n",
       "      <td>13.0</td>\n",
       "      <td>14.0</td>\n",
       "      <td>15.0</td>\n",
       "      <td>16.0</td>\n",
       "      <td>17.0</td>\n",
       "    </tr>\n",
       "    <tr>\n",
       "      <th>Peter</th>\n",
       "      <td>11.0</td>\n",
       "      <td>12.0</td>\n",
       "      <td>13.0</td>\n",
       "      <td>14.0</td>\n",
       "      <td>15.0</td>\n",
       "      <td>16.0</td>\n",
       "    </tr>\n",
       "    <tr>\n",
       "      <th>Jan</th>\n",
       "      <td>10.0</td>\n",
       "      <td>11.0</td>\n",
       "      <td>12.0</td>\n",
       "      <td>13.0</td>\n",
       "      <td>14.0</td>\n",
       "      <td>15.0</td>\n",
       "    </tr>\n",
       "    <tr>\n",
       "      <th>Bobby</th>\n",
       "      <td>8.0</td>\n",
       "      <td>9.0</td>\n",
       "      <td>10.0</td>\n",
       "      <td>11.0</td>\n",
       "      <td>12.0</td>\n",
       "      <td>13.0</td>\n",
       "    </tr>\n",
       "    <tr>\n",
       "      <th>Cindy</th>\n",
       "      <td>6.0</td>\n",
       "      <td>7.0</td>\n",
       "      <td>8.0</td>\n",
       "      <td>9.0</td>\n",
       "      <td>10.0</td>\n",
       "      <td>11.0</td>\n",
       "    </tr>\n",
       "    <tr>\n",
       "      <th>Oliver</th>\n",
       "      <td>NaN</td>\n",
       "      <td>NaN</td>\n",
       "      <td>NaN</td>\n",
       "      <td>NaN</td>\n",
       "      <td>8.0</td>\n",
       "      <td>9.0</td>\n",
       "    </tr>\n",
       "    <tr>\n",
       "      <th>Olivia</th>\n",
       "      <td>NaN</td>\n",
       "      <td>NaN</td>\n",
       "      <td>NaN</td>\n",
       "      <td>NaN</td>\n",
       "      <td>NaN</td>\n",
       "      <td>1.0</td>\n",
       "    </tr>\n",
       "  </tbody>\n",
       "</table>\n",
       "</div>"
      ],
      "text/plain": [
       "        Season 1  Season 2  Season 3  Season 4  Season 5  Season 6\n",
       "Greg        14.0      15.0      16.0      17.0      18.0      19.0\n",
       "Marcia      12.0      13.0      14.0      15.0      16.0      17.0\n",
       "Peter       11.0      12.0      13.0      14.0      15.0      16.0\n",
       "Jan         10.0      11.0      12.0      13.0      14.0      15.0\n",
       "Bobby        8.0       9.0      10.0      11.0      12.0      13.0\n",
       "Cindy        6.0       7.0       8.0       9.0      10.0      11.0\n",
       "Oliver       NaN       NaN       NaN       NaN       8.0       9.0\n",
       "Olivia       NaN       NaN       NaN       NaN       NaN       1.0"
      ]
     },
     "execution_count": 108,
     "metadata": {},
     "output_type": "execute_result"
    }
   ],
   "source": [
    "#create a new data frame from the Brady with Oliver data frame\n",
    "brady_what_if = brady_o\n",
    "\n",
    "#create the new season 6 comlumn by adding 1 to the season 5 column\n",
    "brady_what_if['Season 6'] = brady_o['Season 5'] + 1\n",
    "#since Olivia was not really in the show, we'll set her other season values to null\n",
    "brady_what_if.loc['Olivia'] = [None,None,None,None,None,1]\n",
    "\n",
    "brady_what_if "
   ]
  },
  {
   "cell_type": "markdown",
   "metadata": {},
   "source": [
    "We set up the new what if data frame perfectly. Now lets see some statistics at a glance. "
   ]
  },
  {
   "cell_type": "code",
   "execution_count": 109,
   "metadata": {},
   "outputs": [
    {
     "data": {
      "text/html": [
       "<div>\n",
       "<style scoped>\n",
       "    .dataframe tbody tr th:only-of-type {\n",
       "        vertical-align: middle;\n",
       "    }\n",
       "\n",
       "    .dataframe tbody tr th {\n",
       "        vertical-align: top;\n",
       "    }\n",
       "\n",
       "    .dataframe thead th {\n",
       "        text-align: right;\n",
       "    }\n",
       "</style>\n",
       "<table border=\"1\" class=\"dataframe\">\n",
       "  <thead>\n",
       "    <tr style=\"text-align: right;\">\n",
       "      <th></th>\n",
       "      <th>Season 1</th>\n",
       "      <th>Season 2</th>\n",
       "      <th>Season 3</th>\n",
       "      <th>Season 4</th>\n",
       "      <th>Season 5</th>\n",
       "      <th>Season 6</th>\n",
       "    </tr>\n",
       "  </thead>\n",
       "  <tbody>\n",
       "    <tr>\n",
       "      <th>count</th>\n",
       "      <td>6.000000</td>\n",
       "      <td>6.000000</td>\n",
       "      <td>6.000000</td>\n",
       "      <td>6.000000</td>\n",
       "      <td>7.000000</td>\n",
       "      <td>8.000000</td>\n",
       "    </tr>\n",
       "    <tr>\n",
       "      <th>mean</th>\n",
       "      <td>10.166667</td>\n",
       "      <td>11.166667</td>\n",
       "      <td>12.166667</td>\n",
       "      <td>13.166667</td>\n",
       "      <td>13.285714</td>\n",
       "      <td>12.625000</td>\n",
       "    </tr>\n",
       "    <tr>\n",
       "      <th>std</th>\n",
       "      <td>2.857738</td>\n",
       "      <td>2.857738</td>\n",
       "      <td>2.857738</td>\n",
       "      <td>2.857738</td>\n",
       "      <td>3.498299</td>\n",
       "      <td>5.705574</td>\n",
       "    </tr>\n",
       "    <tr>\n",
       "      <th>min</th>\n",
       "      <td>6.000000</td>\n",
       "      <td>7.000000</td>\n",
       "      <td>8.000000</td>\n",
       "      <td>9.000000</td>\n",
       "      <td>8.000000</td>\n",
       "      <td>1.000000</td>\n",
       "    </tr>\n",
       "    <tr>\n",
       "      <th>25%</th>\n",
       "      <td>8.500000</td>\n",
       "      <td>9.500000</td>\n",
       "      <td>10.500000</td>\n",
       "      <td>11.500000</td>\n",
       "      <td>11.000000</td>\n",
       "      <td>10.500000</td>\n",
       "    </tr>\n",
       "    <tr>\n",
       "      <th>50%</th>\n",
       "      <td>10.500000</td>\n",
       "      <td>11.500000</td>\n",
       "      <td>12.500000</td>\n",
       "      <td>13.500000</td>\n",
       "      <td>14.000000</td>\n",
       "      <td>14.000000</td>\n",
       "    </tr>\n",
       "    <tr>\n",
       "      <th>75%</th>\n",
       "      <td>11.750000</td>\n",
       "      <td>12.750000</td>\n",
       "      <td>13.750000</td>\n",
       "      <td>14.750000</td>\n",
       "      <td>15.500000</td>\n",
       "      <td>16.250000</td>\n",
       "    </tr>\n",
       "    <tr>\n",
       "      <th>max</th>\n",
       "      <td>14.000000</td>\n",
       "      <td>15.000000</td>\n",
       "      <td>16.000000</td>\n",
       "      <td>17.000000</td>\n",
       "      <td>18.000000</td>\n",
       "      <td>19.000000</td>\n",
       "    </tr>\n",
       "  </tbody>\n",
       "</table>\n",
       "</div>"
      ],
      "text/plain": [
       "        Season 1   Season 2   Season 3   Season 4   Season 5   Season 6\n",
       "count   6.000000   6.000000   6.000000   6.000000   7.000000   8.000000\n",
       "mean   10.166667  11.166667  12.166667  13.166667  13.285714  12.625000\n",
       "std     2.857738   2.857738   2.857738   2.857738   3.498299   5.705574\n",
       "min     6.000000   7.000000   8.000000   9.000000   8.000000   1.000000\n",
       "25%     8.500000   9.500000  10.500000  11.500000  11.000000  10.500000\n",
       "50%    10.500000  11.500000  12.500000  13.500000  14.000000  14.000000\n",
       "75%    11.750000  12.750000  13.750000  14.750000  15.500000  16.250000\n",
       "max    14.000000  15.000000  16.000000  17.000000  18.000000  19.000000"
      ]
     },
     "execution_count": 109,
     "metadata": {},
     "output_type": "execute_result"
    }
   ],
   "source": [
    "brady_what_if.describe()"
   ]
  },
  {
   "cell_type": "markdown",
   "metadata": {},
   "source": [
    "Perfect! We kept the average age at 14, this new season can't possibly fail. \n",
    "\n",
    "Now let's get an even better visualization of our data and graph the seasons together."
   ]
  },
  {
   "cell_type": "code",
   "execution_count": 110,
   "metadata": {},
   "outputs": [
    {
     "name": "stderr",
     "output_type": "stream",
     "text": [
      "c:\\users\\ben stano\\appdata\\local\\programs\\python\\python36-32\\lib\\site-packages\\numpy\\core\\fromnumeric.py:52: FutureWarning: reshape is deprecated and will raise in a subsequent release. Please use .values.reshape(...) instead\n",
      "  return getattr(obj, method)(*args, **kwds)\n"
     ]
    },
    {
     "data": {
      "image/png": "[encoded data removed]",
      "text/plain": [
       "<Figure size 432x288 with 1 Axes>"
      ]
     },
     "metadata": {},
     "output_type": "display_data"
    }
   ],
   "source": [
    "#set-up an iterable to put all boxes on one graph\n",
    "x = [brady_what_if.iloc[:5, 0],brady_what_if.iloc[:5, 1],brady_what_if.iloc[:5, 2],\n",
    "     brady_what_if.iloc[:5, 3],brady_what_if.iloc[:6, 4],brady_what_if['Season 6']]\n",
    "plt.boxplot(x)\n",
    "plt.show()"
   ]
  },
  {
   "cell_type": "markdown",
   "metadata": {},
   "source": [
    "As we can see, having a baby on this show would've really been strange.  From a statistical standpoint it would've created an outlier in the data and warped the whole box plot.  \n",
    "\n",
    "That might be why from a viewing standpoint, it would feel desperate and sad.  Even more than Oliver."
   ]
  }
 ],
 "metadata": {
  "kernelspec": {
   "display_name": "Python 3",
   "language": "python",
   "name": "python3"
  },
  "language_info": {
   "codemirror_mode": {
    "name": "ipython",
    "version": 3
   },
   "file_extension": ".py",
   "mimetype": "text/x-python",
   "name": "python",
   "nbconvert_exporter": "python",
   "pygments_lexer": "ipython3",
   "version": "3.6.4"
  }
 },
 "nbformat": 4,
 "nbformat_minor": 2
}
